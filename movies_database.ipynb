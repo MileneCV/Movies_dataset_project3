{
 "cells": [
  {
   "cell_type": "markdown",
   "id": "89de1b64",
   "metadata": {},
   "source": [
    "Milene Carmes Vallejo\n",
    "12/13/2022"
   ]
  },
  {
   "cell_type": "markdown",
   "id": "e6836b81",
   "metadata": {},
   "source": [
    "# Import"
   ]
  },
  {
   "cell_type": "code",
   "execution_count": 1,
   "id": "69a1de45",
   "metadata": {},
   "outputs": [],
   "source": [
    "import pandas as pd\n",
    "import numpy as np"
   ]
  },
  {
   "cell_type": "markdown",
   "id": "b902021b",
   "metadata": {},
   "source": [
    "# Downloads the Files"
   ]
  },
  {
   "cell_type": "code",
   "execution_count": 2,
   "id": "b7609880",
   "metadata": {},
   "outputs": [],
   "source": [
    "basics_url = 'https://datasets.imdbws.com/title.basics.tsv.gz'\n",
    "akas_url = 'https://datasets.imdbws.com/title.akas.tsv.gz'\n",
    "ratings_url = 'https://datasets.imdbws.com/title.ratings.tsv.gz'"
   ]
  },
  {
   "cell_type": "markdown",
   "id": "b526b1f3",
   "metadata": {},
   "source": [
    "# Loading TSV's with Pandas"
   ]
  },
  {
   "cell_type": "code",
   "execution_count": 3,
   "id": "1c134ec5",
   "metadata": {},
   "outputs": [
    {
     "data": {
      "text/html": [
       "<div>\n",
       "<style scoped>\n",
       "    .dataframe tbody tr th:only-of-type {\n",
       "        vertical-align: middle;\n",
       "    }\n",
       "\n",
       "    .dataframe tbody tr th {\n",
       "        vertical-align: top;\n",
       "    }\n",
       "\n",
       "    .dataframe thead th {\n",
       "        text-align: right;\n",
       "    }\n",
       "</style>\n",
       "<table border=\"1\" class=\"dataframe\">\n",
       "  <thead>\n",
       "    <tr style=\"text-align: right;\">\n",
       "      <th></th>\n",
       "      <th>tconst</th>\n",
       "      <th>titleType</th>\n",
       "      <th>primaryTitle</th>\n",
       "      <th>originalTitle</th>\n",
       "      <th>isAdult</th>\n",
       "      <th>startYear</th>\n",
       "      <th>endYear</th>\n",
       "      <th>runtimeMinutes</th>\n",
       "      <th>genres</th>\n",
       "    </tr>\n",
       "  </thead>\n",
       "  <tbody>\n",
       "    <tr>\n",
       "      <th>0</th>\n",
       "      <td>tt0000001</td>\n",
       "      <td>short</td>\n",
       "      <td>Carmencita</td>\n",
       "      <td>Carmencita</td>\n",
       "      <td>0</td>\n",
       "      <td>1894</td>\n",
       "      <td>\\N</td>\n",
       "      <td>1</td>\n",
       "      <td>Documentary,Short</td>\n",
       "    </tr>\n",
       "    <tr>\n",
       "      <th>1</th>\n",
       "      <td>tt0000002</td>\n",
       "      <td>short</td>\n",
       "      <td>Le clown et ses chiens</td>\n",
       "      <td>Le clown et ses chiens</td>\n",
       "      <td>0</td>\n",
       "      <td>1892</td>\n",
       "      <td>\\N</td>\n",
       "      <td>5</td>\n",
       "      <td>Animation,Short</td>\n",
       "    </tr>\n",
       "    <tr>\n",
       "      <th>2</th>\n",
       "      <td>tt0000003</td>\n",
       "      <td>short</td>\n",
       "      <td>Pauvre Pierrot</td>\n",
       "      <td>Pauvre Pierrot</td>\n",
       "      <td>0</td>\n",
       "      <td>1892</td>\n",
       "      <td>\\N</td>\n",
       "      <td>4</td>\n",
       "      <td>Animation,Comedy,Romance</td>\n",
       "    </tr>\n",
       "    <tr>\n",
       "      <th>3</th>\n",
       "      <td>tt0000004</td>\n",
       "      <td>short</td>\n",
       "      <td>Un bon bock</td>\n",
       "      <td>Un bon bock</td>\n",
       "      <td>0</td>\n",
       "      <td>1892</td>\n",
       "      <td>\\N</td>\n",
       "      <td>12</td>\n",
       "      <td>Animation,Short</td>\n",
       "    </tr>\n",
       "    <tr>\n",
       "      <th>4</th>\n",
       "      <td>tt0000005</td>\n",
       "      <td>short</td>\n",
       "      <td>Blacksmith Scene</td>\n",
       "      <td>Blacksmith Scene</td>\n",
       "      <td>0</td>\n",
       "      <td>1893</td>\n",
       "      <td>\\N</td>\n",
       "      <td>1</td>\n",
       "      <td>Comedy,Short</td>\n",
       "    </tr>\n",
       "    <tr>\n",
       "      <th>...</th>\n",
       "      <td>...</td>\n",
       "      <td>...</td>\n",
       "      <td>...</td>\n",
       "      <td>...</td>\n",
       "      <td>...</td>\n",
       "      <td>...</td>\n",
       "      <td>...</td>\n",
       "      <td>...</td>\n",
       "      <td>...</td>\n",
       "    </tr>\n",
       "    <tr>\n",
       "      <th>9443784</th>\n",
       "      <td>tt9916848</td>\n",
       "      <td>tvEpisode</td>\n",
       "      <td>Episode #3.17</td>\n",
       "      <td>Episode #3.17</td>\n",
       "      <td>0</td>\n",
       "      <td>2010</td>\n",
       "      <td>\\N</td>\n",
       "      <td>\\N</td>\n",
       "      <td>Action,Drama,Family</td>\n",
       "    </tr>\n",
       "    <tr>\n",
       "      <th>9443785</th>\n",
       "      <td>tt9916850</td>\n",
       "      <td>tvEpisode</td>\n",
       "      <td>Episode #3.19</td>\n",
       "      <td>Episode #3.19</td>\n",
       "      <td>0</td>\n",
       "      <td>2010</td>\n",
       "      <td>\\N</td>\n",
       "      <td>\\N</td>\n",
       "      <td>Action,Drama,Family</td>\n",
       "    </tr>\n",
       "    <tr>\n",
       "      <th>9443786</th>\n",
       "      <td>tt9916852</td>\n",
       "      <td>tvEpisode</td>\n",
       "      <td>Episode #3.20</td>\n",
       "      <td>Episode #3.20</td>\n",
       "      <td>0</td>\n",
       "      <td>2010</td>\n",
       "      <td>\\N</td>\n",
       "      <td>\\N</td>\n",
       "      <td>Action,Drama,Family</td>\n",
       "    </tr>\n",
       "    <tr>\n",
       "      <th>9443787</th>\n",
       "      <td>tt9916856</td>\n",
       "      <td>short</td>\n",
       "      <td>The Wind</td>\n",
       "      <td>The Wind</td>\n",
       "      <td>0</td>\n",
       "      <td>2015</td>\n",
       "      <td>\\N</td>\n",
       "      <td>27</td>\n",
       "      <td>Short</td>\n",
       "    </tr>\n",
       "    <tr>\n",
       "      <th>9443788</th>\n",
       "      <td>tt9916880</td>\n",
       "      <td>tvEpisode</td>\n",
       "      <td>Horrid Henry Knows It All</td>\n",
       "      <td>Horrid Henry Knows It All</td>\n",
       "      <td>0</td>\n",
       "      <td>2014</td>\n",
       "      <td>\\N</td>\n",
       "      <td>10</td>\n",
       "      <td>Adventure,Animation,Comedy</td>\n",
       "    </tr>\n",
       "  </tbody>\n",
       "</table>\n",
       "<p>9443789 rows × 9 columns</p>\n",
       "</div>"
      ],
      "text/plain": [
       "            tconst  titleType               primaryTitle  \\\n",
       "0        tt0000001      short                 Carmencita   \n",
       "1        tt0000002      short     Le clown et ses chiens   \n",
       "2        tt0000003      short             Pauvre Pierrot   \n",
       "3        tt0000004      short                Un bon bock   \n",
       "4        tt0000005      short           Blacksmith Scene   \n",
       "...            ...        ...                        ...   \n",
       "9443784  tt9916848  tvEpisode              Episode #3.17   \n",
       "9443785  tt9916850  tvEpisode              Episode #3.19   \n",
       "9443786  tt9916852  tvEpisode              Episode #3.20   \n",
       "9443787  tt9916856      short                   The Wind   \n",
       "9443788  tt9916880  tvEpisode  Horrid Henry Knows It All   \n",
       "\n",
       "                     originalTitle isAdult startYear endYear runtimeMinutes  \\\n",
       "0                       Carmencita       0      1894      \\N              1   \n",
       "1           Le clown et ses chiens       0      1892      \\N              5   \n",
       "2                   Pauvre Pierrot       0      1892      \\N              4   \n",
       "3                      Un bon bock       0      1892      \\N             12   \n",
       "4                 Blacksmith Scene       0      1893      \\N              1   \n",
       "...                            ...     ...       ...     ...            ...   \n",
       "9443784              Episode #3.17       0      2010      \\N             \\N   \n",
       "9443785              Episode #3.19       0      2010      \\N             \\N   \n",
       "9443786              Episode #3.20       0      2010      \\N             \\N   \n",
       "9443787                   The Wind       0      2015      \\N             27   \n",
       "9443788  Horrid Henry Knows It All       0      2014      \\N             10   \n",
       "\n",
       "                             genres  \n",
       "0                 Documentary,Short  \n",
       "1                   Animation,Short  \n",
       "2          Animation,Comedy,Romance  \n",
       "3                   Animation,Short  \n",
       "4                      Comedy,Short  \n",
       "...                             ...  \n",
       "9443784         Action,Drama,Family  \n",
       "9443785         Action,Drama,Family  \n",
       "9443786         Action,Drama,Family  \n",
       "9443787                       Short  \n",
       "9443788  Adventure,Animation,Comedy  \n",
       "\n",
       "[9443789 rows x 9 columns]"
      ]
     },
     "execution_count": 3,
     "metadata": {},
     "output_type": "execute_result"
    }
   ],
   "source": [
    "basics = pd.read_csv(basics_url, sep = '\\t', low_memory = False)\n",
    "basics"
   ]
  },
  {
   "cell_type": "code",
   "execution_count": 4,
   "id": "ee7cadb8",
   "metadata": {},
   "outputs": [
    {
     "data": {
      "text/html": [
       "<div>\n",
       "<style scoped>\n",
       "    .dataframe tbody tr th:only-of-type {\n",
       "        vertical-align: middle;\n",
       "    }\n",
       "\n",
       "    .dataframe tbody tr th {\n",
       "        vertical-align: top;\n",
       "    }\n",
       "\n",
       "    .dataframe thead th {\n",
       "        text-align: right;\n",
       "    }\n",
       "</style>\n",
       "<table border=\"1\" class=\"dataframe\">\n",
       "  <thead>\n",
       "    <tr style=\"text-align: right;\">\n",
       "      <th></th>\n",
       "      <th>titleId</th>\n",
       "      <th>ordering</th>\n",
       "      <th>title</th>\n",
       "      <th>region</th>\n",
       "      <th>language</th>\n",
       "      <th>types</th>\n",
       "      <th>attributes</th>\n",
       "      <th>isOriginalTitle</th>\n",
       "    </tr>\n",
       "  </thead>\n",
       "  <tbody>\n",
       "    <tr>\n",
       "      <th>0</th>\n",
       "      <td>tt0000001</td>\n",
       "      <td>1</td>\n",
       "      <td>Карменсіта</td>\n",
       "      <td>UA</td>\n",
       "      <td>\\N</td>\n",
       "      <td>imdbDisplay</td>\n",
       "      <td>\\N</td>\n",
       "      <td>0</td>\n",
       "    </tr>\n",
       "    <tr>\n",
       "      <th>1</th>\n",
       "      <td>tt0000001</td>\n",
       "      <td>2</td>\n",
       "      <td>Carmencita</td>\n",
       "      <td>DE</td>\n",
       "      <td>\\N</td>\n",
       "      <td>\\N</td>\n",
       "      <td>literal title</td>\n",
       "      <td>0</td>\n",
       "    </tr>\n",
       "    <tr>\n",
       "      <th>2</th>\n",
       "      <td>tt0000001</td>\n",
       "      <td>3</td>\n",
       "      <td>Carmencita - spanyol tánc</td>\n",
       "      <td>HU</td>\n",
       "      <td>\\N</td>\n",
       "      <td>imdbDisplay</td>\n",
       "      <td>\\N</td>\n",
       "      <td>0</td>\n",
       "    </tr>\n",
       "    <tr>\n",
       "      <th>3</th>\n",
       "      <td>tt0000001</td>\n",
       "      <td>4</td>\n",
       "      <td>Καρμενσίτα</td>\n",
       "      <td>GR</td>\n",
       "      <td>\\N</td>\n",
       "      <td>imdbDisplay</td>\n",
       "      <td>\\N</td>\n",
       "      <td>0</td>\n",
       "    </tr>\n",
       "    <tr>\n",
       "      <th>4</th>\n",
       "      <td>tt0000001</td>\n",
       "      <td>5</td>\n",
       "      <td>Карменсита</td>\n",
       "      <td>RU</td>\n",
       "      <td>\\N</td>\n",
       "      <td>imdbDisplay</td>\n",
       "      <td>\\N</td>\n",
       "      <td>0</td>\n",
       "    </tr>\n",
       "    <tr>\n",
       "      <th>...</th>\n",
       "      <td>...</td>\n",
       "      <td>...</td>\n",
       "      <td>...</td>\n",
       "      <td>...</td>\n",
       "      <td>...</td>\n",
       "      <td>...</td>\n",
       "      <td>...</td>\n",
       "      <td>...</td>\n",
       "    </tr>\n",
       "    <tr>\n",
       "      <th>34171760</th>\n",
       "      <td>tt9916852</td>\n",
       "      <td>5</td>\n",
       "      <td>Episódio #3.20</td>\n",
       "      <td>PT</td>\n",
       "      <td>pt</td>\n",
       "      <td>\\N</td>\n",
       "      <td>\\N</td>\n",
       "      <td>0</td>\n",
       "    </tr>\n",
       "    <tr>\n",
       "      <th>34171761</th>\n",
       "      <td>tt9916852</td>\n",
       "      <td>6</td>\n",
       "      <td>Episodio #3.20</td>\n",
       "      <td>IT</td>\n",
       "      <td>it</td>\n",
       "      <td>\\N</td>\n",
       "      <td>\\N</td>\n",
       "      <td>0</td>\n",
       "    </tr>\n",
       "    <tr>\n",
       "      <th>34171762</th>\n",
       "      <td>tt9916852</td>\n",
       "      <td>7</td>\n",
       "      <td>एपिसोड #3.20</td>\n",
       "      <td>IN</td>\n",
       "      <td>hi</td>\n",
       "      <td>\\N</td>\n",
       "      <td>\\N</td>\n",
       "      <td>0</td>\n",
       "    </tr>\n",
       "    <tr>\n",
       "      <th>34171763</th>\n",
       "      <td>tt9916856</td>\n",
       "      <td>1</td>\n",
       "      <td>The Wind</td>\n",
       "      <td>DE</td>\n",
       "      <td>\\N</td>\n",
       "      <td>imdbDisplay</td>\n",
       "      <td>\\N</td>\n",
       "      <td>0</td>\n",
       "    </tr>\n",
       "    <tr>\n",
       "      <th>34171764</th>\n",
       "      <td>tt9916856</td>\n",
       "      <td>2</td>\n",
       "      <td>The Wind</td>\n",
       "      <td>\\N</td>\n",
       "      <td>\\N</td>\n",
       "      <td>original</td>\n",
       "      <td>\\N</td>\n",
       "      <td>1</td>\n",
       "    </tr>\n",
       "  </tbody>\n",
       "</table>\n",
       "<p>34171765 rows × 8 columns</p>\n",
       "</div>"
      ],
      "text/plain": [
       "            titleId  ordering                      title region language  \\\n",
       "0         tt0000001         1                 Карменсіта     UA       \\N   \n",
       "1         tt0000001         2                 Carmencita     DE       \\N   \n",
       "2         tt0000001         3  Carmencita - spanyol tánc     HU       \\N   \n",
       "3         tt0000001         4                 Καρμενσίτα     GR       \\N   \n",
       "4         tt0000001         5                 Карменсита     RU       \\N   \n",
       "...             ...       ...                        ...    ...      ...   \n",
       "34171760  tt9916852         5             Episódio #3.20     PT       pt   \n",
       "34171761  tt9916852         6             Episodio #3.20     IT       it   \n",
       "34171762  tt9916852         7               एपिसोड #3.20     IN       hi   \n",
       "34171763  tt9916856         1                   The Wind     DE       \\N   \n",
       "34171764  tt9916856         2                   The Wind     \\N       \\N   \n",
       "\n",
       "                types     attributes isOriginalTitle  \n",
       "0         imdbDisplay             \\N               0  \n",
       "1                  \\N  literal title               0  \n",
       "2         imdbDisplay             \\N               0  \n",
       "3         imdbDisplay             \\N               0  \n",
       "4         imdbDisplay             \\N               0  \n",
       "...               ...            ...             ...  \n",
       "34171760           \\N             \\N               0  \n",
       "34171761           \\N             \\N               0  \n",
       "34171762           \\N             \\N               0  \n",
       "34171763  imdbDisplay             \\N               0  \n",
       "34171764     original             \\N               1  \n",
       "\n",
       "[34171765 rows x 8 columns]"
      ]
     },
     "execution_count": 4,
     "metadata": {},
     "output_type": "execute_result"
    }
   ],
   "source": [
    "akas = pd.read_csv(akas_url, sep = '\\t', low_memory = False)\n",
    "akas"
   ]
  },
  {
   "cell_type": "code",
   "execution_count": 5,
   "id": "eebd1a1b",
   "metadata": {},
   "outputs": [
    {
     "data": {
      "text/html": [
       "<div>\n",
       "<style scoped>\n",
       "    .dataframe tbody tr th:only-of-type {\n",
       "        vertical-align: middle;\n",
       "    }\n",
       "\n",
       "    .dataframe tbody tr th {\n",
       "        vertical-align: top;\n",
       "    }\n",
       "\n",
       "    .dataframe thead th {\n",
       "        text-align: right;\n",
       "    }\n",
       "</style>\n",
       "<table border=\"1\" class=\"dataframe\">\n",
       "  <thead>\n",
       "    <tr style=\"text-align: right;\">\n",
       "      <th></th>\n",
       "      <th>tconst</th>\n",
       "      <th>averageRating</th>\n",
       "      <th>numVotes</th>\n",
       "    </tr>\n",
       "  </thead>\n",
       "  <tbody>\n",
       "    <tr>\n",
       "      <th>0</th>\n",
       "      <td>tt0000001</td>\n",
       "      <td>5.7</td>\n",
       "      <td>1925</td>\n",
       "    </tr>\n",
       "    <tr>\n",
       "      <th>1</th>\n",
       "      <td>tt0000002</td>\n",
       "      <td>5.8</td>\n",
       "      <td>261</td>\n",
       "    </tr>\n",
       "    <tr>\n",
       "      <th>2</th>\n",
       "      <td>tt0000003</td>\n",
       "      <td>6.5</td>\n",
       "      <td>1741</td>\n",
       "    </tr>\n",
       "    <tr>\n",
       "      <th>3</th>\n",
       "      <td>tt0000004</td>\n",
       "      <td>5.6</td>\n",
       "      <td>176</td>\n",
       "    </tr>\n",
       "    <tr>\n",
       "      <th>4</th>\n",
       "      <td>tt0000005</td>\n",
       "      <td>6.2</td>\n",
       "      <td>2554</td>\n",
       "    </tr>\n",
       "    <tr>\n",
       "      <th>...</th>\n",
       "      <td>...</td>\n",
       "      <td>...</td>\n",
       "      <td>...</td>\n",
       "    </tr>\n",
       "    <tr>\n",
       "      <th>1256770</th>\n",
       "      <td>tt9916690</td>\n",
       "      <td>7.4</td>\n",
       "      <td>6</td>\n",
       "    </tr>\n",
       "    <tr>\n",
       "      <th>1256771</th>\n",
       "      <td>tt9916720</td>\n",
       "      <td>5.4</td>\n",
       "      <td>285</td>\n",
       "    </tr>\n",
       "    <tr>\n",
       "      <th>1256772</th>\n",
       "      <td>tt9916730</td>\n",
       "      <td>8.0</td>\n",
       "      <td>8</td>\n",
       "    </tr>\n",
       "    <tr>\n",
       "      <th>1256773</th>\n",
       "      <td>tt9916766</td>\n",
       "      <td>6.7</td>\n",
       "      <td>21</td>\n",
       "    </tr>\n",
       "    <tr>\n",
       "      <th>1256774</th>\n",
       "      <td>tt9916778</td>\n",
       "      <td>7.3</td>\n",
       "      <td>35</td>\n",
       "    </tr>\n",
       "  </tbody>\n",
       "</table>\n",
       "<p>1256775 rows × 3 columns</p>\n",
       "</div>"
      ],
      "text/plain": [
       "            tconst  averageRating  numVotes\n",
       "0        tt0000001            5.7      1925\n",
       "1        tt0000002            5.8       261\n",
       "2        tt0000003            6.5      1741\n",
       "3        tt0000004            5.6       176\n",
       "4        tt0000005            6.2      2554\n",
       "...            ...            ...       ...\n",
       "1256770  tt9916690            7.4         6\n",
       "1256771  tt9916720            5.4       285\n",
       "1256772  tt9916730            8.0         8\n",
       "1256773  tt9916766            6.7        21\n",
       "1256774  tt9916778            7.3        35\n",
       "\n",
       "[1256775 rows x 3 columns]"
      ]
     },
     "execution_count": 5,
     "metadata": {},
     "output_type": "execute_result"
    }
   ],
   "source": [
    "ratings = pd.read_csv(ratings_url, sep = '\\t', low_memory = False)\n",
    "ratings"
   ]
  },
  {
   "cell_type": "markdown",
   "id": "fd273ccb",
   "metadata": {},
   "source": [
    "# Required Preprocessing - Details\n",
    "\n",
    "\n",
    "According to the data dictionary, null values have been encoding as \\N.\n",
    "\n",
    "You will want to find those and replace them with np.nan.\n",
    "\n",
    "However, the backslash (\\) character is a special one that tells the computer to ignore whatever character comes next.\n",
    "\n",
    "So if we were to say df.replace({'\\N':np.nan}), the computer would see \\N as an empty string.\n",
    "\n",
    "To fix this, add a second backslash character, which will tell the computer that you actually WANTED to use a literal \\.\n",
    "\n",
    "df.replace({'\\\\N':np.nan})\n"
   ]
  },
  {
   "cell_type": "code",
   "execution_count": 6,
   "id": "1c305a85",
   "metadata": {},
   "outputs": [],
   "source": [
    "basics= basics.replace({'\\\\N':np.nan})\n",
    "akas = akas.replace({'\\\\N':np.nan})\n",
    "ratings =ratings.replace({'\\\\N':np.nan})"
   ]
  },
  {
   "cell_type": "markdown",
   "id": "0e4eb5c2",
   "metadata": {},
   "source": [
    "## Basics"
   ]
  },
  {
   "cell_type": "code",
   "execution_count": 7,
   "id": "139d7d24",
   "metadata": {},
   "outputs": [
    {
     "data": {
      "text/plain": [
       "0"
      ]
     },
     "execution_count": 7,
     "metadata": {},
     "output_type": "execute_result"
    }
   ],
   "source": [
    "# check duplicates\n",
    "basics.duplicated().sum()"
   ]
  },
  {
   "cell_type": "code",
   "execution_count": 8,
   "id": "45d0e537",
   "metadata": {},
   "outputs": [],
   "source": [
    "# Replace \"\\N\" with np.nan\n",
    "basics= basics.replace({'\\\\N':np.nan})"
   ]
  },
  {
   "cell_type": "code",
   "execution_count": 9,
   "id": "990a44cf",
   "metadata": {
    "scrolled": true
   },
   "outputs": [
    {
     "data": {
      "text/plain": [
       "tconst                  0\n",
       "titleType               0\n",
       "primaryTitle           11\n",
       "originalTitle          11\n",
       "isAdult                 1\n",
       "startYear         1265131\n",
       "endYear           9344028\n",
       "runtimeMinutes    6764996\n",
       "genres             431698\n",
       "dtype: int64"
      ]
     },
     "execution_count": 9,
     "metadata": {},
     "output_type": "execute_result"
    }
   ],
   "source": [
    "# check nan values\n",
    "basics.isna().sum()"
   ]
  },
  {
   "cell_type": "markdown",
   "id": "60f61e5c",
   "metadata": {},
   "source": [
    "#### Eliminate movies that are null for runtimeMinutes and genre"
   ]
  },
  {
   "cell_type": "code",
   "execution_count": 10,
   "id": "1eb88d4d",
   "metadata": {},
   "outputs": [],
   "source": [
    "#Eliminate movies that are null for runtimeMinutes and genre\n",
    "basics = basics.dropna(subset=['runtimeMinutes', 'genres'])"
   ]
  },
  {
   "cell_type": "code",
   "execution_count": 11,
   "id": "9586b6ab",
   "metadata": {},
   "outputs": [
    {
     "data": {
      "text/plain": [
       "tconst                  0\n",
       "titleType               0\n",
       "primaryTitle            1\n",
       "originalTitle           1\n",
       "isAdult                 0\n",
       "startYear          106681\n",
       "endYear           2558084\n",
       "runtimeMinutes          0\n",
       "genres                  0\n",
       "dtype: int64"
      ]
     },
     "execution_count": 11,
     "metadata": {},
     "output_type": "execute_result"
    }
   ],
   "source": [
    "#check nan values \n",
    "basics.isna().sum()"
   ]
  },
  {
   "cell_type": "code",
   "execution_count": 12,
   "id": "3333ff1f",
   "metadata": {},
   "outputs": [
    {
     "data": {
      "text/plain": [
       "tvEpisode       1247479\n",
       "short            585319\n",
       "movie            373600\n",
       "video            177511\n",
       "tvMovie           89341\n",
       "tvSeries          88223\n",
       "tvSpecial         17204\n",
       "tvMiniSeries      16558\n",
       "tvShort            9499\n",
       "videoGame           313\n",
       "Name: titleType, dtype: int64"
      ]
     },
     "execution_count": 12,
     "metadata": {},
     "output_type": "execute_result"
    }
   ],
   "source": [
    "# check type\n",
    "basics['titleType'].value_counts()"
   ]
  },
  {
   "cell_type": "markdown",
   "id": "0d874bdc",
   "metadata": {},
   "source": [
    "#### Keep only titleType==Movie"
   ]
  },
  {
   "cell_type": "code",
   "execution_count": 13,
   "id": "e269d481",
   "metadata": {},
   "outputs": [
    {
     "data": {
      "text/plain": [
       "movie    373600\n",
       "Name: titleType, dtype: int64"
      ]
     },
     "execution_count": 13,
     "metadata": {},
     "output_type": "execute_result"
    }
   ],
   "source": [
    "# keep only titleType==Movie\n",
    "basics = basics.loc[basics['titleType'] == 'movie']\n",
    "# check type\n",
    "basics['titleType'].value_counts()"
   ]
  },
  {
   "cell_type": "markdown",
   "id": "edce9423",
   "metadata": {},
   "source": [
    "#### filter startYear 2000-2022"
   ]
  },
  {
   "cell_type": "code",
   "execution_count": 14,
   "id": "e87dbb40",
   "metadata": {},
   "outputs": [
    {
     "data": {
      "text/plain": [
       "2017    14254\n",
       "2018    14201\n",
       "2019    13889\n",
       "2016    13870\n",
       "2015    13389\n",
       "        ...  \n",
       "1899        1\n",
       "1904        1\n",
       "1897        1\n",
       "1896        1\n",
       "1894        1\n",
       "Name: startYear, Length: 129, dtype: int64"
      ]
     },
     "execution_count": 14,
     "metadata": {},
     "output_type": "execute_result"
    }
   ],
   "source": [
    "# check startYear\n",
    "basics['startYear'].value_counts()"
   ]
  },
  {
   "cell_type": "code",
   "execution_count": 15,
   "id": "4bd5b7b0",
   "metadata": {},
   "outputs": [
    {
     "data": {
      "text/plain": [
       "dtype('O')"
      ]
     },
     "execution_count": 15,
     "metadata": {},
     "output_type": "execute_result"
    }
   ],
   "source": [
    "# check dtype\n",
    "basics['startYear'].dtype"
   ]
  },
  {
   "cell_type": "code",
   "execution_count": 16,
   "id": "874543e6",
   "metadata": {},
   "outputs": [],
   "source": [
    "# we need to change to integer to filter 2000-2021 but first drop nan\n",
    "basics = basics.dropna(subset=['startYear'])"
   ]
  },
  {
   "cell_type": "code",
   "execution_count": 17,
   "id": "78488a8c",
   "metadata": {},
   "outputs": [
    {
     "data": {
      "text/plain": [
       "dtype('int32')"
      ]
     },
     "execution_count": 17,
     "metadata": {},
     "output_type": "execute_result"
    }
   ],
   "source": [
    "# change to integer\n",
    "basics['startYear'] = basics['startYear'].astype(int)\n",
    "# check\n",
    "basics['startYear'].dtype"
   ]
  },
  {
   "cell_type": "code",
   "execution_count": 18,
   "id": "658b9bae",
   "metadata": {},
   "outputs": [
    {
     "data": {
      "text/plain": [
       "2017    14254\n",
       "2018    14201\n",
       "2019    13889\n",
       "2016    13870\n",
       "2015    13389\n",
       "2014    13019\n",
       "2013    12322\n",
       "2021    12022\n",
       "2012    11574\n",
       "2022    11466\n",
       "2020    11385\n",
       "2011    10726\n",
       "2010    10149\n",
       "2009     9311\n",
       "2008     8107\n",
       "2007     6916\n",
       "2006     6458\n",
       "2005     5786\n",
       "2004     5157\n",
       "2003     4548\n",
       "2002     4105\n",
       "2001     3822\n",
       "2000     3611\n",
       "Name: startYear, dtype: int64"
      ]
     },
     "execution_count": 18,
     "metadata": {},
     "output_type": "execute_result"
    }
   ],
   "source": [
    "# filter startYear 2000-2022\n",
    "basics = basics[(basics['startYear'] >=2000) & (basics['startYear'] <=2022)]\n",
    "# Check \n",
    "basics['startYear'].value_counts()"
   ]
  },
  {
   "cell_type": "markdown",
   "id": "6bf9dfc5",
   "metadata": {},
   "source": [
    "#### Exclude movies that are included in the documentary category."
   ]
  },
  {
   "cell_type": "code",
   "execution_count": 19,
   "id": "c5579820",
   "metadata": {},
   "outputs": [],
   "source": [
    "# Exclude movies that are included in the documentary category.\n",
    "is_documentary = basics['genres'].str.contains('documentary',case=False)\n",
    "basics = basics[~is_documentary]\n",
    "\n"
   ]
  },
  {
   "cell_type": "markdown",
   "id": "fa7856a8",
   "metadata": {},
   "source": [
    "#### Keep only US movies (Use AKAs table)"
   ]
  },
  {
   "cell_type": "markdown",
   "id": "9a6757be",
   "metadata": {},
   "source": [
    "## AKAs"
   ]
  },
  {
   "cell_type": "markdown",
   "id": "43fce67b",
   "metadata": {},
   "source": [
    "#### keep only US movies."
   ]
  },
  {
   "cell_type": "code",
   "execution_count": 20,
   "id": "8bd9be84",
   "metadata": {},
   "outputs": [
    {
     "data": {
      "text/plain": [
       "US    1392037\n",
       "Name: region, dtype: int64"
      ]
     },
     "execution_count": 20,
     "metadata": {},
     "output_type": "execute_result"
    }
   ],
   "source": [
    "akas = akas[(akas['region'] == 'US')]\n",
    "# check\n",
    "akas['region'].value_counts()\n"
   ]
  },
  {
   "cell_type": "code",
   "execution_count": 21,
   "id": "0c10b0a3",
   "metadata": {},
   "outputs": [
    {
     "data": {
      "text/html": [
       "<div>\n",
       "<style scoped>\n",
       "    .dataframe tbody tr th:only-of-type {\n",
       "        vertical-align: middle;\n",
       "    }\n",
       "\n",
       "    .dataframe tbody tr th {\n",
       "        vertical-align: top;\n",
       "    }\n",
       "\n",
       "    .dataframe thead th {\n",
       "        text-align: right;\n",
       "    }\n",
       "</style>\n",
       "<table border=\"1\" class=\"dataframe\">\n",
       "  <thead>\n",
       "    <tr style=\"text-align: right;\">\n",
       "      <th></th>\n",
       "      <th>tconst</th>\n",
       "      <th>titleType</th>\n",
       "      <th>primaryTitle</th>\n",
       "      <th>originalTitle</th>\n",
       "      <th>isAdult</th>\n",
       "      <th>startYear</th>\n",
       "      <th>endYear</th>\n",
       "      <th>runtimeMinutes</th>\n",
       "      <th>genres</th>\n",
       "    </tr>\n",
       "  </thead>\n",
       "  <tbody>\n",
       "    <tr>\n",
       "      <th>34804</th>\n",
       "      <td>tt0035423</td>\n",
       "      <td>movie</td>\n",
       "      <td>Kate &amp; Leopold</td>\n",
       "      <td>Kate &amp; Leopold</td>\n",
       "      <td>0</td>\n",
       "      <td>2001</td>\n",
       "      <td>NaN</td>\n",
       "      <td>118</td>\n",
       "      <td>Comedy,Fantasy,Romance</td>\n",
       "    </tr>\n",
       "    <tr>\n",
       "      <th>61117</th>\n",
       "      <td>tt0062336</td>\n",
       "      <td>movie</td>\n",
       "      <td>The Tango of the Widower and Its Distorting Mi...</td>\n",
       "      <td>El Tango del Viudo y Su Espejo Deformante</td>\n",
       "      <td>0</td>\n",
       "      <td>2020</td>\n",
       "      <td>NaN</td>\n",
       "      <td>70</td>\n",
       "      <td>Drama</td>\n",
       "    </tr>\n",
       "    <tr>\n",
       "      <th>67670</th>\n",
       "      <td>tt0069049</td>\n",
       "      <td>movie</td>\n",
       "      <td>The Other Side of the Wind</td>\n",
       "      <td>The Other Side of the Wind</td>\n",
       "      <td>0</td>\n",
       "      <td>2018</td>\n",
       "      <td>NaN</td>\n",
       "      <td>122</td>\n",
       "      <td>Drama</td>\n",
       "    </tr>\n",
       "    <tr>\n",
       "      <th>86802</th>\n",
       "      <td>tt0088751</td>\n",
       "      <td>movie</td>\n",
       "      <td>The Naked Monster</td>\n",
       "      <td>The Naked Monster</td>\n",
       "      <td>0</td>\n",
       "      <td>2005</td>\n",
       "      <td>NaN</td>\n",
       "      <td>100</td>\n",
       "      <td>Comedy,Horror,Sci-Fi</td>\n",
       "    </tr>\n",
       "    <tr>\n",
       "      <th>93939</th>\n",
       "      <td>tt0096056</td>\n",
       "      <td>movie</td>\n",
       "      <td>Crime and Punishment</td>\n",
       "      <td>Crime and Punishment</td>\n",
       "      <td>0</td>\n",
       "      <td>2002</td>\n",
       "      <td>NaN</td>\n",
       "      <td>126</td>\n",
       "      <td>Drama</td>\n",
       "    </tr>\n",
       "    <tr>\n",
       "      <th>...</th>\n",
       "      <td>...</td>\n",
       "      <td>...</td>\n",
       "      <td>...</td>\n",
       "      <td>...</td>\n",
       "      <td>...</td>\n",
       "      <td>...</td>\n",
       "      <td>...</td>\n",
       "      <td>...</td>\n",
       "      <td>...</td>\n",
       "    </tr>\n",
       "    <tr>\n",
       "      <th>9442925</th>\n",
       "      <td>tt9914942</td>\n",
       "      <td>movie</td>\n",
       "      <td>Life Without Sara Amat</td>\n",
       "      <td>La vida sense la Sara Amat</td>\n",
       "      <td>0</td>\n",
       "      <td>2019</td>\n",
       "      <td>NaN</td>\n",
       "      <td>74</td>\n",
       "      <td>Drama</td>\n",
       "    </tr>\n",
       "    <tr>\n",
       "      <th>9443321</th>\n",
       "      <td>tt9915872</td>\n",
       "      <td>movie</td>\n",
       "      <td>The Last White Witch</td>\n",
       "      <td>My Girlfriend is a Wizard</td>\n",
       "      <td>0</td>\n",
       "      <td>2019</td>\n",
       "      <td>NaN</td>\n",
       "      <td>97</td>\n",
       "      <td>Comedy,Drama,Fantasy</td>\n",
       "    </tr>\n",
       "    <tr>\n",
       "      <th>9443461</th>\n",
       "      <td>tt9916170</td>\n",
       "      <td>movie</td>\n",
       "      <td>The Rehearsal</td>\n",
       "      <td>O Ensaio</td>\n",
       "      <td>0</td>\n",
       "      <td>2019</td>\n",
       "      <td>NaN</td>\n",
       "      <td>51</td>\n",
       "      <td>Drama</td>\n",
       "    </tr>\n",
       "    <tr>\n",
       "      <th>9443470</th>\n",
       "      <td>tt9916190</td>\n",
       "      <td>movie</td>\n",
       "      <td>Safeguard</td>\n",
       "      <td>Safeguard</td>\n",
       "      <td>0</td>\n",
       "      <td>2020</td>\n",
       "      <td>NaN</td>\n",
       "      <td>95</td>\n",
       "      <td>Action,Adventure,Thriller</td>\n",
       "    </tr>\n",
       "    <tr>\n",
       "      <th>9443554</th>\n",
       "      <td>tt9916362</td>\n",
       "      <td>movie</td>\n",
       "      <td>Coven</td>\n",
       "      <td>Akelarre</td>\n",
       "      <td>0</td>\n",
       "      <td>2020</td>\n",
       "      <td>NaN</td>\n",
       "      <td>92</td>\n",
       "      <td>Drama,History</td>\n",
       "    </tr>\n",
       "  </tbody>\n",
       "</table>\n",
       "<p>84002 rows × 9 columns</p>\n",
       "</div>"
      ],
      "text/plain": [
       "            tconst titleType  \\\n",
       "34804    tt0035423     movie   \n",
       "61117    tt0062336     movie   \n",
       "67670    tt0069049     movie   \n",
       "86802    tt0088751     movie   \n",
       "93939    tt0096056     movie   \n",
       "...            ...       ...   \n",
       "9442925  tt9914942     movie   \n",
       "9443321  tt9915872     movie   \n",
       "9443461  tt9916170     movie   \n",
       "9443470  tt9916190     movie   \n",
       "9443554  tt9916362     movie   \n",
       "\n",
       "                                              primaryTitle  \\\n",
       "34804                                       Kate & Leopold   \n",
       "61117    The Tango of the Widower and Its Distorting Mi...   \n",
       "67670                           The Other Side of the Wind   \n",
       "86802                                    The Naked Monster   \n",
       "93939                                 Crime and Punishment   \n",
       "...                                                    ...   \n",
       "9442925                             Life Without Sara Amat   \n",
       "9443321                               The Last White Witch   \n",
       "9443461                                      The Rehearsal   \n",
       "9443470                                          Safeguard   \n",
       "9443554                                              Coven   \n",
       "\n",
       "                                     originalTitle isAdult  startYear endYear  \\\n",
       "34804                               Kate & Leopold       0       2001     NaN   \n",
       "61117    El Tango del Viudo y Su Espejo Deformante       0       2020     NaN   \n",
       "67670                   The Other Side of the Wind       0       2018     NaN   \n",
       "86802                            The Naked Monster       0       2005     NaN   \n",
       "93939                         Crime and Punishment       0       2002     NaN   \n",
       "...                                            ...     ...        ...     ...   \n",
       "9442925                 La vida sense la Sara Amat       0       2019     NaN   \n",
       "9443321                  My Girlfriend is a Wizard       0       2019     NaN   \n",
       "9443461                                   O Ensaio       0       2019     NaN   \n",
       "9443470                                  Safeguard       0       2020     NaN   \n",
       "9443554                                   Akelarre       0       2020     NaN   \n",
       "\n",
       "        runtimeMinutes                     genres  \n",
       "34804              118     Comedy,Fantasy,Romance  \n",
       "61117               70                      Drama  \n",
       "67670              122                      Drama  \n",
       "86802              100       Comedy,Horror,Sci-Fi  \n",
       "93939              126                      Drama  \n",
       "...                ...                        ...  \n",
       "9442925             74                      Drama  \n",
       "9443321             97       Comedy,Drama,Fantasy  \n",
       "9443461             51                      Drama  \n",
       "9443470             95  Action,Adventure,Thriller  \n",
       "9443554             92              Drama,History  \n",
       "\n",
       "[84002 rows x 9 columns]"
      ]
     },
     "execution_count": 21,
     "metadata": {},
     "output_type": "execute_result"
    }
   ],
   "source": [
    "# Filter the basics table down to only include the US by using the filter akas dataframe\n",
    "keepers =basics['tconst'].isin(akas['titleId'])\n",
    "basics = basics[keepers]\n",
    "basics\n",
    "\n",
    "\n"
   ]
  },
  {
   "cell_type": "code",
   "execution_count": 22,
   "id": "77e1f820",
   "metadata": {},
   "outputs": [],
   "source": [
    "# Replace \"\\N\" with np.nan\n",
    "akas= akas.replace({'\\\\N':np.nan})"
   ]
  },
  {
   "cell_type": "markdown",
   "id": "3680da7e",
   "metadata": {},
   "source": [
    "## Ratings"
   ]
  },
  {
   "cell_type": "code",
   "execution_count": 23,
   "id": "9f1c99ab",
   "metadata": {},
   "outputs": [],
   "source": [
    "# Replace \"\\N\" with np.nan\n",
    "ratings= ratings.replace({'\\\\N':np.nan})"
   ]
  },
  {
   "cell_type": "code",
   "execution_count": 24,
   "id": "e1a9f427",
   "metadata": {},
   "outputs": [
    {
     "data": {
      "text/html": [
       "<div>\n",
       "<style scoped>\n",
       "    .dataframe tbody tr th:only-of-type {\n",
       "        vertical-align: middle;\n",
       "    }\n",
       "\n",
       "    .dataframe tbody tr th {\n",
       "        vertical-align: top;\n",
       "    }\n",
       "\n",
       "    .dataframe thead th {\n",
       "        text-align: right;\n",
       "    }\n",
       "</style>\n",
       "<table border=\"1\" class=\"dataframe\">\n",
       "  <thead>\n",
       "    <tr style=\"text-align: right;\">\n",
       "      <th></th>\n",
       "      <th>tconst</th>\n",
       "      <th>averageRating</th>\n",
       "      <th>numVotes</th>\n",
       "    </tr>\n",
       "  </thead>\n",
       "  <tbody>\n",
       "    <tr>\n",
       "      <th>0</th>\n",
       "      <td>tt0000001</td>\n",
       "      <td>5.7</td>\n",
       "      <td>1925</td>\n",
       "    </tr>\n",
       "    <tr>\n",
       "      <th>1</th>\n",
       "      <td>tt0000002</td>\n",
       "      <td>5.8</td>\n",
       "      <td>261</td>\n",
       "    </tr>\n",
       "    <tr>\n",
       "      <th>4</th>\n",
       "      <td>tt0000005</td>\n",
       "      <td>6.2</td>\n",
       "      <td>2554</td>\n",
       "    </tr>\n",
       "    <tr>\n",
       "      <th>5</th>\n",
       "      <td>tt0000006</td>\n",
       "      <td>5.1</td>\n",
       "      <td>175</td>\n",
       "    </tr>\n",
       "    <tr>\n",
       "      <th>6</th>\n",
       "      <td>tt0000007</td>\n",
       "      <td>5.4</td>\n",
       "      <td>797</td>\n",
       "    </tr>\n",
       "    <tr>\n",
       "      <th>...</th>\n",
       "      <td>...</td>\n",
       "      <td>...</td>\n",
       "      <td>...</td>\n",
       "    </tr>\n",
       "    <tr>\n",
       "      <th>1256749</th>\n",
       "      <td>tt9916204</td>\n",
       "      <td>8.2</td>\n",
       "      <td>250</td>\n",
       "    </tr>\n",
       "    <tr>\n",
       "      <th>1256755</th>\n",
       "      <td>tt9916348</td>\n",
       "      <td>8.5</td>\n",
       "      <td>17</td>\n",
       "    </tr>\n",
       "    <tr>\n",
       "      <th>1256756</th>\n",
       "      <td>tt9916362</td>\n",
       "      <td>6.4</td>\n",
       "      <td>5048</td>\n",
       "    </tr>\n",
       "    <tr>\n",
       "      <th>1256760</th>\n",
       "      <td>tt9916428</td>\n",
       "      <td>3.8</td>\n",
       "      <td>14</td>\n",
       "    </tr>\n",
       "    <tr>\n",
       "      <th>1256771</th>\n",
       "      <td>tt9916720</td>\n",
       "      <td>5.4</td>\n",
       "      <td>285</td>\n",
       "    </tr>\n",
       "  </tbody>\n",
       "</table>\n",
       "<p>478707 rows × 3 columns</p>\n",
       "</div>"
      ],
      "text/plain": [
       "            tconst  averageRating  numVotes\n",
       "0        tt0000001            5.7      1925\n",
       "1        tt0000002            5.8       261\n",
       "4        tt0000005            6.2      2554\n",
       "5        tt0000006            5.1       175\n",
       "6        tt0000007            5.4       797\n",
       "...            ...            ...       ...\n",
       "1256749  tt9916204            8.2       250\n",
       "1256755  tt9916348            8.5        17\n",
       "1256756  tt9916362            6.4      5048\n",
       "1256760  tt9916428            3.8        14\n",
       "1256771  tt9916720            5.4       285\n",
       "\n",
       "[478707 rows x 3 columns]"
      ]
     },
     "execution_count": 24,
     "metadata": {},
     "output_type": "execute_result"
    }
   ],
   "source": [
    "# Filter the basics table down to only include the US by using the filter akas dataframe\n",
    "keepers1 =ratings['tconst'].isin(akas['titleId'])\n",
    "ratings = ratings[keepers1]\n",
    "ratings"
   ]
  },
  {
   "cell_type": "code",
   "execution_count": null,
   "id": "2ffcb16c",
   "metadata": {},
   "outputs": [],
   "source": []
  }
 ],
 "metadata": {
  "kernelspec": {
   "display_name": "Python (dojo-env)",
   "language": "python",
   "name": "dojo-env"
  },
  "language_info": {
   "codemirror_mode": {
    "name": "ipython",
    "version": 3
   },
   "file_extension": ".py",
   "mimetype": "text/x-python",
   "name": "python",
   "nbconvert_exporter": "python",
   "pygments_lexer": "ipython3",
   "version": "3.9.15"
  },
  "toc": {
   "base_numbering": 1,
   "nav_menu": {},
   "number_sections": false,
   "sideBar": true,
   "skip_h1_title": false,
   "title_cell": "Table of Contents",
   "title_sidebar": "Contents",
   "toc_cell": false,
   "toc_position": {
    "height": "calc(100% - 180px)",
    "left": "10px",
    "top": "150px",
    "width": "165px"
   },
   "toc_section_display": true,
   "toc_window_display": true
  }
 },
 "nbformat": 4,
 "nbformat_minor": 5
}
