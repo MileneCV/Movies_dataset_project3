{
 "cells": [
  {
   "cell_type": "code",
   "execution_count": 1,
   "id": "642761d7",
   "metadata": {},
   "outputs": [
    {
     "name": "stdout",
     "output_type": "stream",
     "text": [
      "Collecting tmdbsimple\n",
      "  Using cached tmdbsimple-2.9.1-py3-none-any.whl (38 kB)\n",
      "Requirement already satisfied: requests in k:\\coding_dojo\\anaconda\\envs\\dojo-env\\lib\\site-packages (from tmdbsimple) (2.28.1)\n",
      "Requirement already satisfied: charset-normalizer<3,>=2 in k:\\coding_dojo\\anaconda\\envs\\dojo-env\\lib\\site-packages (from requests->tmdbsimple) (2.0.4)\n",
      "Requirement already satisfied: idna<4,>=2.5 in k:\\coding_dojo\\anaconda\\envs\\dojo-env\\lib\\site-packages (from requests->tmdbsimple) (3.4)\n",
      "Requirement already satisfied: certifi>=2017.4.17 in k:\\coding_dojo\\anaconda\\envs\\dojo-env\\lib\\site-packages (from requests->tmdbsimple) (2022.9.24)\n",
      "Requirement already satisfied: urllib3<1.27,>=1.21.1 in k:\\coding_dojo\\anaconda\\envs\\dojo-env\\lib\\site-packages (from requests->tmdbsimple) (1.26.13)\n",
      "Installing collected packages: tmdbsimple\n",
      "Successfully installed tmdbsimple-2.9.1\n"
     ]
    }
   ],
   "source": [
    "!pip install tmdbsimple"
   ]
  },
  {
   "cell_type": "code",
   "execution_count": 8,
   "id": "77635813",
   "metadata": {},
   "outputs": [],
   "source": [
    "import json\n",
    "# Load API credentials\n",
    "with open ('/Users/ERNESTO/.secret/tmdb_api.json', 'r') as f:\n",
    "    login = json.load(f)\n",
    "    \n",
    "\n"
   ]
  },
  {
   "cell_type": "code",
   "execution_count": 9,
   "id": "1f41fe09",
   "metadata": {},
   "outputs": [
    {
     "data": {
      "text/plain": [
       "dict_keys(['client-id', 'api-key'])"
      ]
     },
     "execution_count": 9,
     "metadata": {},
     "output_type": "execute_result"
    }
   ],
   "source": [
    "# DISPLAY THE KEYS\n",
    "login.keys()"
   ]
  },
  {
   "cell_type": "code",
   "execution_count": 10,
   "id": "6932b99a",
   "metadata": {},
   "outputs": [],
   "source": [
    "import tmdbsimple as tmdb\n",
    "tmdb.API_KEY = login['api-key']"
   ]
  },
  {
   "cell_type": "code",
   "execution_count": 12,
   "id": "b633b8bf",
   "metadata": {},
   "outputs": [
    {
     "data": {
      "text/plain": [
       "<tmdbsimple.movies.Movies at 0x137e90cc9d0>"
      ]
     },
     "execution_count": 12,
     "metadata": {},
     "output_type": "execute_result"
    }
   ],
   "source": [
    "## make a movie object using the .Movies function from tmdb\n",
    "movie = tmdb.Movies(603)\n",
    "movie"
   ]
  },
  {
   "cell_type": "code",
   "execution_count": 13,
   "id": "95abc968",
   "metadata": {},
   "outputs": [
    {
     "data": {
      "text/plain": [
       "{'adult': False,\n",
       " 'backdrop_path': '/l4QHerTSbMI7qgvasqxP36pqjN6.jpg',\n",
       " 'belongs_to_collection': {'id': 2344,\n",
       "  'name': 'The Matrix Collection',\n",
       "  'poster_path': '/bV9qTVHTVf0gkW0j7p7M0ILD4pG.jpg',\n",
       "  'backdrop_path': '/bRm2DEgUiYciDw3myHuYFInD7la.jpg'},\n",
       " 'budget': 63000000,\n",
       " 'genres': [{'id': 28, 'name': 'Action'},\n",
       "  {'id': 878, 'name': 'Science Fiction'}],\n",
       " 'homepage': 'http://www.warnerbros.com/matrix',\n",
       " 'id': 603,\n",
       " 'imdb_id': 'tt0133093',\n",
       " 'original_language': 'en',\n",
       " 'original_title': 'The Matrix',\n",
       " 'overview': 'Set in the 22nd century, The Matrix tells the story of a computer hacker who joins a group of underground insurgents fighting the vast and powerful computers who now rule the earth.',\n",
       " 'popularity': 63.374,\n",
       " 'poster_path': '/f89U3ADr1oiB1s9GkdPOEpXUk5H.jpg',\n",
       " 'production_companies': [{'id': 79,\n",
       "   'logo_path': '/tpFpsqbleCzEE2p5EgvUq6ozfCA.png',\n",
       "   'name': 'Village Roadshow Pictures',\n",
       "   'origin_country': 'US'},\n",
       "  {'id': 174,\n",
       "   'logo_path': '/IuAlhI9eVC9Z8UQWOIDdWRKSEJ.png',\n",
       "   'name': 'Warner Bros. Pictures',\n",
       "   'origin_country': 'US'},\n",
       "  {'id': 372,\n",
       "   'logo_path': None,\n",
       "   'name': 'Groucho II Film Partnership',\n",
       "   'origin_country': ''},\n",
       "  {'id': 1885,\n",
       "   'logo_path': '/tXMFoE8AtNdnFzWOW0aCLwl7xxS.png',\n",
       "   'name': 'Silver Pictures',\n",
       "   'origin_country': 'US'}],\n",
       " 'production_countries': [{'iso_3166_1': 'US',\n",
       "   'name': 'United States of America'}],\n",
       " 'release_date': '1999-03-30',\n",
       " 'revenue': 463517383,\n",
       " 'runtime': 136,\n",
       " 'spoken_languages': [{'english_name': 'English',\n",
       "   'iso_639_1': 'en',\n",
       "   'name': 'English'}],\n",
       " 'status': 'Released',\n",
       " 'tagline': 'Welcome to the Real World.',\n",
       " 'title': 'The Matrix',\n",
       " 'video': False,\n",
       " 'vote_average': 8.195,\n",
       " 'vote_count': 22498}"
      ]
     },
     "execution_count": 13,
     "metadata": {},
     "output_type": "execute_result"
    }
   ],
   "source": [
    "## movie objects have a .info dictionary \n",
    "info = movie.info()\n",
    "info\n",
    "\n"
   ]
  },
  {
   "cell_type": "code",
   "execution_count": 14,
   "id": "9b07ff8d",
   "metadata": {},
   "outputs": [
    {
     "data": {
      "text/plain": [
       "63000000"
      ]
     },
     "execution_count": 14,
     "metadata": {},
     "output_type": "execute_result"
    }
   ],
   "source": [
    "info['budget']\n"
   ]
  },
  {
   "cell_type": "code",
   "execution_count": 15,
   "id": "7cc5fcd1",
   "metadata": {},
   "outputs": [
    {
     "data": {
      "text/plain": [
       "463517383"
      ]
     },
     "execution_count": 15,
     "metadata": {},
     "output_type": "execute_result"
    }
   ],
   "source": [
    "info['revenue']\n"
   ]
  },
  {
   "cell_type": "code",
   "execution_count": 16,
   "id": "142bf06c",
   "metadata": {},
   "outputs": [
    {
     "data": {
      "text/plain": [
       "'tt0133093'"
      ]
     },
     "execution_count": 16,
     "metadata": {},
     "output_type": "execute_result"
    }
   ],
   "source": [
    "info['imdb_id']"
   ]
  },
  {
   "cell_type": "markdown",
   "id": "26e033fc",
   "metadata": {},
   "source": [
    "# Searching with IMDB_ID\n",
    "\n",
    "Try searching by the IMDb number. For example, What was the budget of Tom and Jerry which had an IMDb id of \"tt1361336\"?"
   ]
  },
  {
   "cell_type": "code",
   "execution_count": 17,
   "id": "91299607",
   "metadata": {},
   "outputs": [
    {
     "data": {
      "text/plain": [
       "50000000"
      ]
     },
     "execution_count": 17,
     "metadata": {},
     "output_type": "execute_result"
    }
   ],
   "source": [
    "movie = tmdb.Movies('tt1361336')\n",
    "info = movie.info()\n",
    "info['budget']\n"
   ]
  },
  {
   "cell_type": "markdown",
   "id": "8fcea346",
   "metadata": {},
   "source": [
    "Searching by IMDB_ID will allow us to make API calls for the specific movies we have already filtered out from the IMDB database in the first part of our project!"
   ]
  },
  {
   "cell_type": "markdown",
   "id": "c5e1187f",
   "metadata": {},
   "source": [
    "# Saving the movie Certification/MPAA Rating\n",
    "While MOST of the data we are interested in is stored in the .info(), the certification rating is not.\n",
    "\n",
    "The README for the package's repository shows how to obtain this information"
   ]
  },
  {
   "cell_type": "code",
   "execution_count": 18,
   "id": "93e9929d",
   "metadata": {},
   "outputs": [
    {
     "name": "stdout",
     "output_type": "stream",
     "text": [
      "PG\n",
      "PG\n",
      "PG\n"
     ]
    }
   ],
   "source": [
    "# example from package README\n",
    "# source = https://github.com/celiao/tmdbsimple\n",
    "releases = movie.releases()\n",
    "for c in releases['countries']:\n",
    "    if c['iso_3166_1'] == 'US':\n",
    "        print(c['certification'])\n"
   ]
  },
  {
   "cell_type": "markdown",
   "id": "33db8dfb",
   "metadata": {},
   "source": [
    "This above code will print the rating of the movie if it is in the US. (Recall that one specification for this project was that all of our movies will be US movies, but this is more generalizable for future projects where that may not be the case).\n",
    "\n",
    "\n",
    "\n",
    "Instead of printing the certification separately, we want to add that to our dictionary results for movie.info()."
   ]
  },
  {
   "cell_type": "code",
   "execution_count": 20,
   "id": "f3c3359f",
   "metadata": {},
   "outputs": [],
   "source": [
    "# Get the movie object for the current id\n",
    "movie = tmdb.Movies('tt1361336')\n",
    "# save the .info .releases dictionaries\n",
    "info = movie.info()\n",
    "releases = movie.releases()\n",
    "# Loop through countries in releases\n",
    "for c in releases['countries']:\n",
    "    # if the country abbreviation==US\n",
    "    if c['iso_3166_1' ] =='US':\n",
    "        ## save a \"certification\" key in the info dict with the certification\n",
    "       info['certification'] = c['certification']\n"
   ]
  },
  {
   "cell_type": "markdown",
   "id": "9bf726f2",
   "metadata": {},
   "source": [
    "# Defining Our Function\n",
    "\n",
    "The function should accept the movie_id as an argument.\n",
    "\n",
    "Make sure to replace the current test id we used with a movie_id variable in your function definition!\n",
    "\n",
    "It should return a dictionary of results that includes certification"
   ]
  },
  {
   "cell_type": "code",
   "execution_count": 21,
   "id": "32833dc6",
   "metadata": {},
   "outputs": [],
   "source": [
    "def get_movie_with_rating(movie_id):\n",
    "    # get the movie object for the currend id\n",
    "    movie = tmdb.Movies(movie_id)\n",
    "    \n",
    "    #save the .info .releases dictionaries\n",
    "    info = movie.info()\n",
    "    \n",
    "    releases = movie.releases()\n",
    "    # loop thrpoght countries in releases \n",
    "    for c in releases['countries']:\n",
    "        # if the country abbreviation == US\n",
    "        if c['iso_3166_1'] =='US':\n",
    "            # save a certificatiion key in info with the certification \n",
    "            info['certification'] = c['certification']\n",
    "            \n",
    "    return info"
   ]
  },
  {
   "cell_type": "markdown",
   "id": "c4efd899",
   "metadata": {},
   "source": [
    "# Testing Our Function\n",
    "## Single Test Movie - the Avengers\n",
    "Now test your function on \"The Avengers\" (id=\"tt0848228\"). What is its certification?"
   ]
  },
  {
   "cell_type": "code",
   "execution_count": 22,
   "id": "61b5a0c5",
   "metadata": {},
   "outputs": [
    {
     "data": {
      "text/plain": [
       "{'adult': False,\n",
       " 'backdrop_path': '/9BBTo63ANSmhC4e6r62OJFuK2GL.jpg',\n",
       " 'belongs_to_collection': {'id': 86311,\n",
       "  'name': 'The Avengers Collection',\n",
       "  'poster_path': '/yFSIUVTCvgYrpalUktulvk3Gi5Y.jpg',\n",
       "  'backdrop_path': '/zuW6fOiusv4X9nnW3paHGfXcSll.jpg'},\n",
       " 'budget': 220000000,\n",
       " 'genres': [{'id': 878, 'name': 'Science Fiction'},\n",
       "  {'id': 28, 'name': 'Action'},\n",
       "  {'id': 12, 'name': 'Adventure'}],\n",
       " 'homepage': 'https://www.marvel.com/movies/the-avengers',\n",
       " 'id': 24428,\n",
       " 'imdb_id': 'tt0848228',\n",
       " 'original_language': 'en',\n",
       " 'original_title': 'The Avengers',\n",
       " 'overview': 'When an unexpected enemy emerges and threatens global safety and security, Nick Fury, director of the international peacekeeping agency known as S.H.I.E.L.D., finds himself in need of a team to pull the world back from the brink of disaster. Spanning the globe, a daring recruitment effort begins!',\n",
       " 'popularity': 130.982,\n",
       " 'poster_path': '/RYMX2wcKCBAr24UyPD7xwmjaTn.jpg',\n",
       " 'production_companies': [{'id': 420,\n",
       "   'logo_path': '/hUzeosd33nzE5MCNsZxCGEKTXaQ.png',\n",
       "   'name': 'Marvel Studios',\n",
       "   'origin_country': 'US'}],\n",
       " 'production_countries': [{'iso_3166_1': 'US',\n",
       "   'name': 'United States of America'}],\n",
       " 'release_date': '2012-04-25',\n",
       " 'revenue': 1518815515,\n",
       " 'runtime': 143,\n",
       " 'spoken_languages': [{'english_name': 'English',\n",
       "   'iso_639_1': 'en',\n",
       "   'name': 'English'},\n",
       "  {'english_name': 'Hindi', 'iso_639_1': 'hi', 'name': 'हिन्दी'},\n",
       "  {'english_name': 'Russian', 'iso_639_1': 'ru', 'name': 'Pусский'}],\n",
       " 'status': 'Released',\n",
       " 'tagline': 'Some assembly required.',\n",
       " 'title': 'The Avengers',\n",
       " 'video': False,\n",
       " 'vote_average': 7.708,\n",
       " 'vote_count': 27908,\n",
       " 'certification': 'PG-13'}"
      ]
     },
     "execution_count": 22,
     "metadata": {},
     "output_type": "execute_result"
    }
   ],
   "source": [
    "test = get_movie_with_rating(\"tt0848228\") #put your function name here\n",
    "test\n",
    "\n"
   ]
  },
  {
   "cell_type": "markdown",
   "id": "1ef314e5",
   "metadata": {},
   "source": [
    "Check the very end of the output. You will see that certification is now included here:\n",
    "    \n",
    "Recall that originally, the movie.info() stopped at 'vote_count', but now we have successfully extracted the certification.\n",
    "\n",
    "This function will make the project must easier and more efficient!"
   ]
  },
  {
   "cell_type": "code",
   "execution_count": null,
   "id": "259e66f4",
   "metadata": {},
   "outputs": [],
   "source": [
    "# More Thorough Testing\n",
    "Ultimately, we want to be able to loop through a list of movie IDs and collect all of the results into a final file/dataframe.\n",
    "\n",
    "Let's test our function in a similar context - looping through several movie IDs."
   ]
  },
  {
   "cell_type": "code",
   "execution_count": 23,
   "id": "9e4795d6",
   "metadata": {},
   "outputs": [
    {
     "ename": "HTTPError",
     "evalue": "404 Client Error: Not Found for url: https://api.themoviedb.org/3/movie/tt0115937?api_key=37b41ee55b32d5b7e8b71fd232f537cc",
     "output_type": "error",
     "traceback": [
      "\u001b[1;31m---------------------------------------------------------------------------\u001b[0m",
      "\u001b[1;31mHTTPError\u001b[0m                                 Traceback (most recent call last)",
      "Cell \u001b[1;32mIn [23], line 6\u001b[0m\n\u001b[0;32m      4\u001b[0m results \u001b[38;5;241m=\u001b[39m []\n\u001b[0;32m      5\u001b[0m \u001b[38;5;28;01mfor\u001b[39;00m movie_id \u001b[38;5;129;01min\u001b[39;00m test_ids:\n\u001b[1;32m----> 6\u001b[0m     movie_info \u001b[38;5;241m=\u001b[39m \u001b[43mget_movie_with_rating\u001b[49m\u001b[43m(\u001b[49m\u001b[43mmovie_id\u001b[49m\u001b[43m)\u001b[49m\n\u001b[0;32m      7\u001b[0m     results\u001b[38;5;241m.\u001b[39mappend(movie_info)\n\u001b[0;32m     10\u001b[0m pd\u001b[38;5;241m.\u001b[39mDataFrame(results)\n",
      "Cell \u001b[1;32mIn [21], line 6\u001b[0m, in \u001b[0;36mget_movie_with_rating\u001b[1;34m(movie_id)\u001b[0m\n\u001b[0;32m      3\u001b[0m movie \u001b[38;5;241m=\u001b[39m tmdb\u001b[38;5;241m.\u001b[39mMovies(movie_id)\n\u001b[0;32m      5\u001b[0m \u001b[38;5;66;03m#save the .info .releases dictionaries\u001b[39;00m\n\u001b[1;32m----> 6\u001b[0m info \u001b[38;5;241m=\u001b[39m \u001b[43mmovie\u001b[49m\u001b[38;5;241;43m.\u001b[39;49m\u001b[43minfo\u001b[49m\u001b[43m(\u001b[49m\u001b[43m)\u001b[49m\n\u001b[0;32m      8\u001b[0m releases \u001b[38;5;241m=\u001b[39m movie\u001b[38;5;241m.\u001b[39mreleases()\n\u001b[0;32m      9\u001b[0m \u001b[38;5;66;03m# loop thrpoght countries in releases \u001b[39;00m\n",
      "File \u001b[1;32mK:\\coding_DOJO\\anaconda\\envs\\dojo-env\\lib\\site-packages\\tmdbsimple\\movies.py:73\u001b[0m, in \u001b[0;36mMovies.info\u001b[1;34m(self, **kwargs)\u001b[0m\n\u001b[0;32m     57\u001b[0m \u001b[38;5;124;03m\"\"\"\u001b[39;00m\n\u001b[0;32m     58\u001b[0m \u001b[38;5;124;03mGet the primary information about a movie.\u001b[39;00m\n\u001b[0;32m     59\u001b[0m \n\u001b[1;32m   (...)\u001b[0m\n\u001b[0;32m     69\u001b[0m \u001b[38;5;124;03m    A dict representation of the JSON returned from the API.\u001b[39;00m\n\u001b[0;32m     70\u001b[0m \u001b[38;5;124;03m\"\"\"\u001b[39;00m\n\u001b[0;32m     71\u001b[0m path \u001b[38;5;241m=\u001b[39m \u001b[38;5;28mself\u001b[39m\u001b[38;5;241m.\u001b[39m_get_id_path(\u001b[38;5;124m'\u001b[39m\u001b[38;5;124minfo\u001b[39m\u001b[38;5;124m'\u001b[39m)\n\u001b[1;32m---> 73\u001b[0m response \u001b[38;5;241m=\u001b[39m \u001b[38;5;28;43mself\u001b[39;49m\u001b[38;5;241;43m.\u001b[39;49m\u001b[43m_GET\u001b[49m\u001b[43m(\u001b[49m\u001b[43mpath\u001b[49m\u001b[43m,\u001b[49m\u001b[43m \u001b[49m\u001b[43mkwargs\u001b[49m\u001b[43m)\u001b[49m\n\u001b[0;32m     74\u001b[0m \u001b[38;5;28mself\u001b[39m\u001b[38;5;241m.\u001b[39m_set_attrs_to_values(response)\n\u001b[0;32m     75\u001b[0m \u001b[38;5;28;01mreturn\u001b[39;00m response\n",
      "File \u001b[1;32mK:\\coding_DOJO\\anaconda\\envs\\dojo-env\\lib\\site-packages\\tmdbsimple\\base.py:110\u001b[0m, in \u001b[0;36mTMDB._GET\u001b[1;34m(self, path, params)\u001b[0m\n\u001b[0;32m    109\u001b[0m \u001b[38;5;28;01mdef\u001b[39;00m \u001b[38;5;21m_GET\u001b[39m(\u001b[38;5;28mself\u001b[39m, path, params\u001b[38;5;241m=\u001b[39m\u001b[38;5;28;01mNone\u001b[39;00m):\n\u001b[1;32m--> 110\u001b[0m     \u001b[38;5;28;01mreturn\u001b[39;00m \u001b[38;5;28;43mself\u001b[39;49m\u001b[38;5;241;43m.\u001b[39;49m\u001b[43m_request\u001b[49m\u001b[43m(\u001b[49m\u001b[38;5;124;43m'\u001b[39;49m\u001b[38;5;124;43mGET\u001b[39;49m\u001b[38;5;124;43m'\u001b[39;49m\u001b[43m,\u001b[49m\u001b[43m \u001b[49m\u001b[43mpath\u001b[49m\u001b[43m,\u001b[49m\u001b[43m \u001b[49m\u001b[43mparams\u001b[49m\u001b[38;5;241;43m=\u001b[39;49m\u001b[43mparams\u001b[49m\u001b[43m)\u001b[49m\n",
      "File \u001b[1;32mK:\\coding_DOJO\\anaconda\\envs\\dojo-env\\lib\\site-packages\\tmdbsimple\\base.py:105\u001b[0m, in \u001b[0;36mTMDB._request\u001b[1;34m(self, method, path, params, payload)\u001b[0m\n\u001b[0;32m     95\u001b[0m \u001b[38;5;66;03m# Use the global requests session the user provided\u001b[39;00m\n\u001b[0;32m     96\u001b[0m \u001b[38;5;28;01melse\u001b[39;00m:\n\u001b[0;32m     97\u001b[0m     response \u001b[38;5;241m=\u001b[39m \u001b[38;5;28mself\u001b[39m\u001b[38;5;241m.\u001b[39msession\u001b[38;5;241m.\u001b[39mrequest(\n\u001b[0;32m     98\u001b[0m         method,\n\u001b[0;32m     99\u001b[0m         url,\n\u001b[1;32m   (...)\u001b[0m\n\u001b[0;32m    102\u001b[0m         headers\u001b[38;5;241m=\u001b[39m\u001b[38;5;28mself\u001b[39m\u001b[38;5;241m.\u001b[39mheaders, timeout\u001b[38;5;241m=\u001b[39m\u001b[38;5;28mself\u001b[39m\u001b[38;5;241m.\u001b[39mtimeout\n\u001b[0;32m    103\u001b[0m     )\n\u001b[1;32m--> 105\u001b[0m \u001b[43mresponse\u001b[49m\u001b[38;5;241;43m.\u001b[39;49m\u001b[43mraise_for_status\u001b[49m\u001b[43m(\u001b[49m\u001b[43m)\u001b[49m\n\u001b[0;32m    106\u001b[0m response\u001b[38;5;241m.\u001b[39mencoding \u001b[38;5;241m=\u001b[39m \u001b[38;5;124m'\u001b[39m\u001b[38;5;124mutf-8\u001b[39m\u001b[38;5;124m'\u001b[39m\n\u001b[0;32m    107\u001b[0m \u001b[38;5;28;01mreturn\u001b[39;00m response\u001b[38;5;241m.\u001b[39mjson()\n",
      "File \u001b[1;32mK:\\coding_DOJO\\anaconda\\envs\\dojo-env\\lib\\site-packages\\requests\\models.py:1021\u001b[0m, in \u001b[0;36mResponse.raise_for_status\u001b[1;34m(self)\u001b[0m\n\u001b[0;32m   1016\u001b[0m     http_error_msg \u001b[38;5;241m=\u001b[39m (\n\u001b[0;32m   1017\u001b[0m         \u001b[38;5;124mf\u001b[39m\u001b[38;5;124m\"\u001b[39m\u001b[38;5;132;01m{\u001b[39;00m\u001b[38;5;28mself\u001b[39m\u001b[38;5;241m.\u001b[39mstatus_code\u001b[38;5;132;01m}\u001b[39;00m\u001b[38;5;124m Server Error: \u001b[39m\u001b[38;5;132;01m{\u001b[39;00mreason\u001b[38;5;132;01m}\u001b[39;00m\u001b[38;5;124m for url: \u001b[39m\u001b[38;5;132;01m{\u001b[39;00m\u001b[38;5;28mself\u001b[39m\u001b[38;5;241m.\u001b[39murl\u001b[38;5;132;01m}\u001b[39;00m\u001b[38;5;124m\"\u001b[39m\n\u001b[0;32m   1018\u001b[0m     )\n\u001b[0;32m   1020\u001b[0m \u001b[38;5;28;01mif\u001b[39;00m http_error_msg:\n\u001b[1;32m-> 1021\u001b[0m     \u001b[38;5;28;01mraise\u001b[39;00m HTTPError(http_error_msg, response\u001b[38;5;241m=\u001b[39m\u001b[38;5;28mself\u001b[39m)\n",
      "\u001b[1;31mHTTPError\u001b[0m: 404 Client Error: Not Found for url: https://api.themoviedb.org/3/movie/tt0115937?api_key=37b41ee55b32d5b7e8b71fd232f537cc"
     ]
    }
   ],
   "source": [
    "## testing our function by looping through a list of ids\n",
    "import pandas as pd\n",
    "test_ids = [\"tt0848228\", \"tt0115937\",\"tt0848228\",\"tt0332280\"]\n",
    "results = []\n",
    "for movie_id in test_ids:\n",
    "    movie_info = get_movie_with_rating(movie_id)\n",
    "    results.append(movie_info)\n",
    "    \n",
    "    \n",
    "pd.DataFrame(results)\n",
    "\n"
   ]
  },
  {
   "cell_type": "markdown",
   "id": "86301843",
   "metadata": {},
   "source": [
    "# What happened?\n",
    "IMDB has a very large collection of movies of all sorts beyond just mainstream box office releases. Many of the movies in IMDB's database do not exist in the Movie Database's (TMDB's) collection.\n",
    "\n",
    "# Handling this Error with Try and Except\n",
    "We can handle this error by using a try and except statement.\n",
    "\n",
    "In brief, a try-except statement works like an if-else statement:\n",
    "\n",
    "Just like an if statement, we use the word try and a : and then start a new line indented inside of the try statement.\n",
    "\n",
    "This is the code that currently errors that we want the function to try to execute.\n",
    "\n",
    "We MUST include an except statement too, which works just like an else statement.\n",
    "\n",
    "the except block includes the instructions for what to do if the try statement hits an error. (Errors are also called Exceptions)."
   ]
  },
  {
   "cell_type": "code",
   "execution_count": 24,
   "id": "7aa168c7",
   "metadata": {},
   "outputs": [
    {
     "data": {
      "text/html": [
       "<div>\n",
       "<style scoped>\n",
       "    .dataframe tbody tr th:only-of-type {\n",
       "        vertical-align: middle;\n",
       "    }\n",
       "\n",
       "    .dataframe tbody tr th {\n",
       "        vertical-align: top;\n",
       "    }\n",
       "\n",
       "    .dataframe thead th {\n",
       "        text-align: right;\n",
       "    }\n",
       "</style>\n",
       "<table border=\"1\" class=\"dataframe\">\n",
       "  <thead>\n",
       "    <tr style=\"text-align: right;\">\n",
       "      <th></th>\n",
       "      <th>adult</th>\n",
       "      <th>backdrop_path</th>\n",
       "      <th>belongs_to_collection</th>\n",
       "      <th>budget</th>\n",
       "      <th>genres</th>\n",
       "      <th>homepage</th>\n",
       "      <th>id</th>\n",
       "      <th>imdb_id</th>\n",
       "      <th>original_language</th>\n",
       "      <th>original_title</th>\n",
       "      <th>...</th>\n",
       "      <th>revenue</th>\n",
       "      <th>runtime</th>\n",
       "      <th>spoken_languages</th>\n",
       "      <th>status</th>\n",
       "      <th>tagline</th>\n",
       "      <th>title</th>\n",
       "      <th>video</th>\n",
       "      <th>vote_average</th>\n",
       "      <th>vote_count</th>\n",
       "      <th>certification</th>\n",
       "    </tr>\n",
       "  </thead>\n",
       "  <tbody>\n",
       "    <tr>\n",
       "      <th>0</th>\n",
       "      <td>False</td>\n",
       "      <td>/9BBTo63ANSmhC4e6r62OJFuK2GL.jpg</td>\n",
       "      <td>{'id': 86311, 'name': 'The Avengers Collection...</td>\n",
       "      <td>220000000</td>\n",
       "      <td>[{'id': 878, 'name': 'Science Fiction'}, {'id'...</td>\n",
       "      <td>https://www.marvel.com/movies/the-avengers</td>\n",
       "      <td>24428</td>\n",
       "      <td>tt0848228</td>\n",
       "      <td>en</td>\n",
       "      <td>The Avengers</td>\n",
       "      <td>...</td>\n",
       "      <td>1518815515</td>\n",
       "      <td>143</td>\n",
       "      <td>[{'english_name': 'English', 'iso_639_1': 'en'...</td>\n",
       "      <td>Released</td>\n",
       "      <td>Some assembly required.</td>\n",
       "      <td>The Avengers</td>\n",
       "      <td>False</td>\n",
       "      <td>7.708</td>\n",
       "      <td>27908</td>\n",
       "      <td>PG-13</td>\n",
       "    </tr>\n",
       "    <tr>\n",
       "      <th>1</th>\n",
       "      <td>False</td>\n",
       "      <td>/9BBTo63ANSmhC4e6r62OJFuK2GL.jpg</td>\n",
       "      <td>{'id': 86311, 'name': 'The Avengers Collection...</td>\n",
       "      <td>220000000</td>\n",
       "      <td>[{'id': 878, 'name': 'Science Fiction'}, {'id'...</td>\n",
       "      <td>https://www.marvel.com/movies/the-avengers</td>\n",
       "      <td>24428</td>\n",
       "      <td>tt0848228</td>\n",
       "      <td>en</td>\n",
       "      <td>The Avengers</td>\n",
       "      <td>...</td>\n",
       "      <td>1518815515</td>\n",
       "      <td>143</td>\n",
       "      <td>[{'english_name': 'English', 'iso_639_1': 'en'...</td>\n",
       "      <td>Released</td>\n",
       "      <td>Some assembly required.</td>\n",
       "      <td>The Avengers</td>\n",
       "      <td>False</td>\n",
       "      <td>7.708</td>\n",
       "      <td>27908</td>\n",
       "      <td>PG-13</td>\n",
       "    </tr>\n",
       "    <tr>\n",
       "      <th>2</th>\n",
       "      <td>False</td>\n",
       "      <td>/qom1SZSENdmHFNZBXbtJAU0WTlC.jpg</td>\n",
       "      <td>None</td>\n",
       "      <td>29000000</td>\n",
       "      <td>[{'id': 10749, 'name': 'Romance'}, {'id': 18, ...</td>\n",
       "      <td>http://www.newline.com/properties/notebookthe....</td>\n",
       "      <td>11036</td>\n",
       "      <td>tt0332280</td>\n",
       "      <td>en</td>\n",
       "      <td>The Notebook</td>\n",
       "      <td>...</td>\n",
       "      <td>115603229</td>\n",
       "      <td>123</td>\n",
       "      <td>[{'english_name': 'English', 'iso_639_1': 'en'...</td>\n",
       "      <td>Released</td>\n",
       "      <td>Behind every great love is a great story.</td>\n",
       "      <td>The Notebook</td>\n",
       "      <td>False</td>\n",
       "      <td>7.881</td>\n",
       "      <td>9980</td>\n",
       "      <td>PG-13</td>\n",
       "    </tr>\n",
       "  </tbody>\n",
       "</table>\n",
       "<p>3 rows × 26 columns</p>\n",
       "</div>"
      ],
      "text/plain": [
       "   adult                     backdrop_path  \\\n",
       "0  False  /9BBTo63ANSmhC4e6r62OJFuK2GL.jpg   \n",
       "1  False  /9BBTo63ANSmhC4e6r62OJFuK2GL.jpg   \n",
       "2  False  /qom1SZSENdmHFNZBXbtJAU0WTlC.jpg   \n",
       "\n",
       "                               belongs_to_collection     budget  \\\n",
       "0  {'id': 86311, 'name': 'The Avengers Collection...  220000000   \n",
       "1  {'id': 86311, 'name': 'The Avengers Collection...  220000000   \n",
       "2                                               None   29000000   \n",
       "\n",
       "                                              genres  \\\n",
       "0  [{'id': 878, 'name': 'Science Fiction'}, {'id'...   \n",
       "1  [{'id': 878, 'name': 'Science Fiction'}, {'id'...   \n",
       "2  [{'id': 10749, 'name': 'Romance'}, {'id': 18, ...   \n",
       "\n",
       "                                            homepage     id    imdb_id  \\\n",
       "0         https://www.marvel.com/movies/the-avengers  24428  tt0848228   \n",
       "1         https://www.marvel.com/movies/the-avengers  24428  tt0848228   \n",
       "2  http://www.newline.com/properties/notebookthe....  11036  tt0332280   \n",
       "\n",
       "  original_language original_title  ...     revenue  runtime  \\\n",
       "0                en   The Avengers  ...  1518815515      143   \n",
       "1                en   The Avengers  ...  1518815515      143   \n",
       "2                en   The Notebook  ...   115603229      123   \n",
       "\n",
       "                                    spoken_languages    status  \\\n",
       "0  [{'english_name': 'English', 'iso_639_1': 'en'...  Released   \n",
       "1  [{'english_name': 'English', 'iso_639_1': 'en'...  Released   \n",
       "2  [{'english_name': 'English', 'iso_639_1': 'en'...  Released   \n",
       "\n",
       "                                     tagline         title  video  \\\n",
       "0                    Some assembly required.  The Avengers  False   \n",
       "1                    Some assembly required.  The Avengers  False   \n",
       "2  Behind every great love is a great story.  The Notebook  False   \n",
       "\n",
       "   vote_average vote_count certification  \n",
       "0         7.708      27908         PG-13  \n",
       "1         7.708      27908         PG-13  \n",
       "2         7.881       9980         PG-13  \n",
       "\n",
       "[3 rows x 26 columns]"
      ]
     },
     "execution_count": 24,
     "metadata": {},
     "output_type": "execute_result"
    }
   ],
   "source": [
    "## testing our function by looping through a list of ids\n",
    "import pandas as pd\n",
    "test_ids = [\"tt0848228\", \"tt0115937\",\"tt0848228\",\"tt0332280\"]\n",
    "results = []\n",
    "for movie_id in test_ids:\n",
    "    \n",
    "    try:\n",
    "        movie_info = get_movie_with_rating(movie_id)\n",
    "        results.append(movie_info)\n",
    "        \n",
    "    except: \n",
    "        pass\n",
    "    \n",
    "pd.DataFrame(results)\n",
    "\n"
   ]
  },
  {
   "cell_type": "markdown",
   "id": "1145d5c8",
   "metadata": {},
   "source": [
    "Now we can run our loop and get the remaining movies' information, even though one of our IDs caused an error with the TMDB API. How can we know which movies caused the problem? With only 4 movies in our list, we can simply check which is missing from our final results, but what if we had thousands of movie IDs?"
   ]
  },
  {
   "cell_type": "markdown",
   "id": "d5c03fa1",
   "metadata": {},
   "source": [
    "## Saving Our Error Messages\n",
    "\n",
    "Additionally, we can save the error message in a variable, which we will call e, just by saying except Exception as e: instead of just saying except:.\n",
    "\n",
    "Once we've saved the error message, we can print the error if we want to see the error message. Since it is just being printed, it won't actually stop the loop from running, but we will still see the information.\n",
    "\n",
    "\n",
    "\n",
    "However, If we are looping through a large collection of movies like you will be doing for the project, this could get very cluttered and will interfere with our progress bars.\n",
    "\n",
    "Instead, we can create a list where we can append the movie id and error message. This way, we can check this list later to see how many movies caused an error - and which ones."
   ]
  },
  {
   "cell_type": "code",
   "execution_count": 25,
   "id": "cef0d810",
   "metadata": {
    "scrolled": true
   },
   "outputs": [
    {
     "data": {
      "text/html": [
       "<div>\n",
       "<style scoped>\n",
       "    .dataframe tbody tr th:only-of-type {\n",
       "        vertical-align: middle;\n",
       "    }\n",
       "\n",
       "    .dataframe tbody tr th {\n",
       "        vertical-align: top;\n",
       "    }\n",
       "\n",
       "    .dataframe thead th {\n",
       "        text-align: right;\n",
       "    }\n",
       "</style>\n",
       "<table border=\"1\" class=\"dataframe\">\n",
       "  <thead>\n",
       "    <tr style=\"text-align: right;\">\n",
       "      <th></th>\n",
       "      <th>adult</th>\n",
       "      <th>backdrop_path</th>\n",
       "      <th>belongs_to_collection</th>\n",
       "      <th>budget</th>\n",
       "      <th>genres</th>\n",
       "      <th>homepage</th>\n",
       "      <th>id</th>\n",
       "      <th>imdb_id</th>\n",
       "      <th>original_language</th>\n",
       "      <th>original_title</th>\n",
       "      <th>...</th>\n",
       "      <th>revenue</th>\n",
       "      <th>runtime</th>\n",
       "      <th>spoken_languages</th>\n",
       "      <th>status</th>\n",
       "      <th>tagline</th>\n",
       "      <th>title</th>\n",
       "      <th>video</th>\n",
       "      <th>vote_average</th>\n",
       "      <th>vote_count</th>\n",
       "      <th>certification</th>\n",
       "    </tr>\n",
       "  </thead>\n",
       "  <tbody>\n",
       "    <tr>\n",
       "      <th>0</th>\n",
       "      <td>False</td>\n",
       "      <td>/9BBTo63ANSmhC4e6r62OJFuK2GL.jpg</td>\n",
       "      <td>{'id': 86311, 'name': 'The Avengers Collection...</td>\n",
       "      <td>220000000</td>\n",
       "      <td>[{'id': 878, 'name': 'Science Fiction'}, {'id'...</td>\n",
       "      <td>https://www.marvel.com/movies/the-avengers</td>\n",
       "      <td>24428</td>\n",
       "      <td>tt0848228</td>\n",
       "      <td>en</td>\n",
       "      <td>The Avengers</td>\n",
       "      <td>...</td>\n",
       "      <td>1518815515</td>\n",
       "      <td>143</td>\n",
       "      <td>[{'english_name': 'English', 'iso_639_1': 'en'...</td>\n",
       "      <td>Released</td>\n",
       "      <td>Some assembly required.</td>\n",
       "      <td>The Avengers</td>\n",
       "      <td>False</td>\n",
       "      <td>7.708</td>\n",
       "      <td>27908</td>\n",
       "      <td>PG-13</td>\n",
       "    </tr>\n",
       "    <tr>\n",
       "      <th>1</th>\n",
       "      <td>False</td>\n",
       "      <td>/9BBTo63ANSmhC4e6r62OJFuK2GL.jpg</td>\n",
       "      <td>{'id': 86311, 'name': 'The Avengers Collection...</td>\n",
       "      <td>220000000</td>\n",
       "      <td>[{'id': 878, 'name': 'Science Fiction'}, {'id'...</td>\n",
       "      <td>https://www.marvel.com/movies/the-avengers</td>\n",
       "      <td>24428</td>\n",
       "      <td>tt0848228</td>\n",
       "      <td>en</td>\n",
       "      <td>The Avengers</td>\n",
       "      <td>...</td>\n",
       "      <td>1518815515</td>\n",
       "      <td>143</td>\n",
       "      <td>[{'english_name': 'English', 'iso_639_1': 'en'...</td>\n",
       "      <td>Released</td>\n",
       "      <td>Some assembly required.</td>\n",
       "      <td>The Avengers</td>\n",
       "      <td>False</td>\n",
       "      <td>7.708</td>\n",
       "      <td>27908</td>\n",
       "      <td>PG-13</td>\n",
       "    </tr>\n",
       "    <tr>\n",
       "      <th>2</th>\n",
       "      <td>False</td>\n",
       "      <td>/qom1SZSENdmHFNZBXbtJAU0WTlC.jpg</td>\n",
       "      <td>None</td>\n",
       "      <td>29000000</td>\n",
       "      <td>[{'id': 10749, 'name': 'Romance'}, {'id': 18, ...</td>\n",
       "      <td>http://www.newline.com/properties/notebookthe....</td>\n",
       "      <td>11036</td>\n",
       "      <td>tt0332280</td>\n",
       "      <td>en</td>\n",
       "      <td>The Notebook</td>\n",
       "      <td>...</td>\n",
       "      <td>115603229</td>\n",
       "      <td>123</td>\n",
       "      <td>[{'english_name': 'English', 'iso_639_1': 'en'...</td>\n",
       "      <td>Released</td>\n",
       "      <td>Behind every great love is a great story.</td>\n",
       "      <td>The Notebook</td>\n",
       "      <td>False</td>\n",
       "      <td>7.881</td>\n",
       "      <td>9980</td>\n",
       "      <td>PG-13</td>\n",
       "    </tr>\n",
       "  </tbody>\n",
       "</table>\n",
       "<p>3 rows × 26 columns</p>\n",
       "</div>"
      ],
      "text/plain": [
       "   adult                     backdrop_path  \\\n",
       "0  False  /9BBTo63ANSmhC4e6r62OJFuK2GL.jpg   \n",
       "1  False  /9BBTo63ANSmhC4e6r62OJFuK2GL.jpg   \n",
       "2  False  /qom1SZSENdmHFNZBXbtJAU0WTlC.jpg   \n",
       "\n",
       "                               belongs_to_collection     budget  \\\n",
       "0  {'id': 86311, 'name': 'The Avengers Collection...  220000000   \n",
       "1  {'id': 86311, 'name': 'The Avengers Collection...  220000000   \n",
       "2                                               None   29000000   \n",
       "\n",
       "                                              genres  \\\n",
       "0  [{'id': 878, 'name': 'Science Fiction'}, {'id'...   \n",
       "1  [{'id': 878, 'name': 'Science Fiction'}, {'id'...   \n",
       "2  [{'id': 10749, 'name': 'Romance'}, {'id': 18, ...   \n",
       "\n",
       "                                            homepage     id    imdb_id  \\\n",
       "0         https://www.marvel.com/movies/the-avengers  24428  tt0848228   \n",
       "1         https://www.marvel.com/movies/the-avengers  24428  tt0848228   \n",
       "2  http://www.newline.com/properties/notebookthe....  11036  tt0332280   \n",
       "\n",
       "  original_language original_title  ...     revenue  runtime  \\\n",
       "0                en   The Avengers  ...  1518815515      143   \n",
       "1                en   The Avengers  ...  1518815515      143   \n",
       "2                en   The Notebook  ...   115603229      123   \n",
       "\n",
       "                                    spoken_languages    status  \\\n",
       "0  [{'english_name': 'English', 'iso_639_1': 'en'...  Released   \n",
       "1  [{'english_name': 'English', 'iso_639_1': 'en'...  Released   \n",
       "2  [{'english_name': 'English', 'iso_639_1': 'en'...  Released   \n",
       "\n",
       "                                     tagline         title  video  \\\n",
       "0                    Some assembly required.  The Avengers  False   \n",
       "1                    Some assembly required.  The Avengers  False   \n",
       "2  Behind every great love is a great story.  The Notebook  False   \n",
       "\n",
       "   vote_average vote_count certification  \n",
       "0         7.708      27908         PG-13  \n",
       "1         7.708      27908         PG-13  \n",
       "2         7.881       9980         PG-13  \n",
       "\n",
       "[3 rows x 26 columns]"
      ]
     },
     "execution_count": 25,
     "metadata": {},
     "output_type": "execute_result"
    }
   ],
   "source": [
    "## testing our function by looping through a list of ids\n",
    "import pandas as pd\n",
    "test_ids = [\"tt0848228\", \"tt0115937\",\"tt0848228\",\"tt0332280\"]\n",
    "results = []\n",
    "errors = []\n",
    "for movie_id in test_ids:\n",
    "    \n",
    "    try:\n",
    "        movie_info = get_movie_with_rating(movie_id)\n",
    "        results.append(movie_info)\n",
    "        \n",
    "    except Exception as e: \n",
    "        errors.append([movie_id, e])\n",
    "    \n",
    "pd.DataFrame(results)\n",
    "\n"
   ]
  },
  {
   "cell_type": "markdown",
   "id": "9eccc34a",
   "metadata": {},
   "source": [
    "Now we can check our error list to see if we have any errors and what they were."
   ]
  },
  {
   "cell_type": "code",
   "execution_count": 26,
   "id": "ce91290a",
   "metadata": {},
   "outputs": [
    {
     "name": "stdout",
     "output_type": "stream",
     "text": [
      "- Number of errors: 1\n"
     ]
    },
    {
     "data": {
      "text/plain": [
       "[['tt0115937',\n",
       "  requests.exceptions.HTTPError('404 Client Error: Not Found for url: https://api.themoviedb.org/3/movie/tt0115937?api_key=37b41ee55b32d5b7e8b71fd232f537cc')]]"
      ]
     },
     "execution_count": 26,
     "metadata": {},
     "output_type": "execute_result"
    }
   ],
   "source": [
    "print(f\"- Number of errors: {len(errors)}\")\n",
    "errors\n",
    "\n"
   ]
  },
  {
   "cell_type": "markdown",
   "id": "6b773f4f",
   "metadata": {},
   "source": [
    "# Efficient TMDB API Calls\n",
    "You have already written a function to combine the certification with the rest of the .info() from the TMDB API results. This lesson will help prepare you for the project. You may want to check out the specifications of project - part 2 for an overview of the task prior to working through this lesson."
   ]
  },
  {
   "cell_type": "markdown",
   "id": "b941b36e",
   "metadata": {},
   "source": [
    "# BEFORE THE LOOPS\n",
    "## Designate a folder\n",
    "You will save API call data in the data folder you created for project part 1"
   ]
  },
  {
   "cell_type": "code",
   "execution_count": null,
   "id": "d5ed509e",
   "metadata": {},
   "outputs": [],
   "source": []
  }
 ],
 "metadata": {
  "kernelspec": {
   "display_name": "Python (dojo-env)",
   "language": "python",
   "name": "dojo-env"
  },
  "language_info": {
   "codemirror_mode": {
    "name": "ipython",
    "version": 3
   },
   "file_extension": ".py",
   "mimetype": "text/x-python",
   "name": "python",
   "nbconvert_exporter": "python",
   "pygments_lexer": "ipython3",
   "version": "3.9.15"
  },
  "toc": {
   "base_numbering": 1,
   "nav_menu": {},
   "number_sections": false,
   "sideBar": true,
   "skip_h1_title": false,
   "title_cell": "Table of Contents",
   "title_sidebar": "Contents",
   "toc_cell": false,
   "toc_position": {},
   "toc_section_display": true,
   "toc_window_display": true
  }
 },
 "nbformat": 4,
 "nbformat_minor": 5
}
